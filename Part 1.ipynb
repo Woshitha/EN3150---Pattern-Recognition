{
 "cells": [
  {
   "cell_type": "code",
   "execution_count": 6,
   "id": "a070074e",
   "metadata": {},
   "outputs": [],
   "source": [
    "import tensorflow as tf\n",
    "from tensorflow import keras\n",
    "from tensorflow.keras import layers\n",
    "from tensorflow.keras.datasets import cifar10\n",
    "import matplotlib.pyplot as plt\n",
    "from sklearn.metrics import confusion_matrix, accuracy_score, precision_score, recall_score\n",
    "import numpy as np"
   ]
  },
  {
   "cell_type": "code",
   "execution_count": 7,
   "id": "499ecba5",
   "metadata": {},
   "outputs": [],
   "source": [
    "(train_images, train_labels), (test_images, test_labels) = cifar10.load_data()"
   ]
  },
  {
   "cell_type": "code",
   "execution_count": 8,
   "id": "c2f67f53",
   "metadata": {},
   "outputs": [
    {
     "ename": "MemoryError",
     "evalue": "Unable to allocate 1.14 GiB for an array with shape (50000, 32, 32, 3) and data type float64",
     "output_type": "error",
     "traceback": [
      "\u001b[1;31m---------------------------------------------------------------------------\u001b[0m",
      "\u001b[1;31mMemoryError\u001b[0m                               Traceback (most recent call last)",
      "Input \u001b[1;32mIn [8]\u001b[0m, in \u001b[0;36m<cell line: 1>\u001b[1;34m()\u001b[0m\n\u001b[1;32m----> 1\u001b[0m train_images \u001b[38;5;241m=\u001b[39m \u001b[43mtrain_images\u001b[49m\u001b[43m \u001b[49m\u001b[38;5;241;43m/\u001b[39;49m\u001b[43m \u001b[49m\u001b[38;5;241;43m255.0\u001b[39;49m\n\u001b[0;32m      2\u001b[0m test_images \u001b[38;5;241m=\u001b[39m test_images \u001b[38;5;241m/\u001b[39m \u001b[38;5;241m255.0\u001b[39m\n",
      "\u001b[1;31mMemoryError\u001b[0m: Unable to allocate 1.14 GiB for an array with shape (50000, 32, 32, 3) and data type float64"
     ]
    }
   ],
   "source": [
    "train_images = train_images / 255.0\n",
    "test_images = test_images / 255.0"
   ]
  },
  {
   "cell_type": "code",
   "execution_count": 9,
   "id": "52a5135d",
   "metadata": {},
   "outputs": [
    {
     "name": "stdout",
     "output_type": "stream",
     "text": [
      "(50000, 32, 32, 3)\n",
      "(10000, 32, 32, 3)\n"
     ]
    }
   ],
   "source": [
    "print(train_images.shape)\n",
    "print(test_images.shape)"
   ]
  },
  {
   "cell_type": "code",
   "execution_count": 10,
   "id": "c71baeb2",
   "metadata": {},
   "outputs": [],
   "source": [
    "train_size = int(0.6 * len(train_images))\n",
    "val_size = int(0.2 * len(train_images))\n",
    "test_size = int(0.2 * len(train_images))\n",
    "\n",
    "train_dataset = tf.data.Dataset.from_tensor_slices((train_images, train_labels))\n",
    "val_dataset = tf.data.Dataset.from_tensor_slices((train_images[train_size:], train_labels[train_size:]))\n",
    "test_dataset = tf.data.Dataset.from_tensor_slices((test_images, test_labels))"
   ]
  },
  {
   "cell_type": "code",
   "execution_count": 12,
   "id": "90d17951",
   "metadata": {},
   "outputs": [],
   "source": [
    "def create_model(x1, m1, x2, m2, x3, d):\n",
    "    model = keras.Sequential([\n",
    "        layers.Conv2D(x1, (m1, m1), activation='relu', input_shape=(32, 32, 3)),\n",
    "        layers.MaxPooling2D((2, 2)),\n",
    "        layers.Conv2D(x2, (m2, m2), activation='relu'),\n",
    "        layers.MaxPooling2D((2, 2)),\n",
    "        layers.Flatten(),\n",
    "        layers.Dense(x3, activation='relu'),\n",
    "        layers.Dropout(d),\n",
    "        layers.Dense(10, activation='softmax')  # 10 classes for CIFAR-10\n",
    "\n",
    "    ])\n",
    "\n",
    "    return model"
   ]
  },
  {
   "cell_type": "code",
   "execution_count": 13,
   "id": "15a65798",
   "metadata": {},
   "outputs": [],
   "source": [
    "x1, m1, x2, m2, x3, d = 16, 3, 32, 3, 128, 0.5"
   ]
  },
  {
   "cell_type": "code",
   "execution_count": 14,
   "id": "42b191b1",
   "metadata": {},
   "outputs": [],
   "source": [
    "def train_model(model, train_dataset, val_dataset, epochs, lr):\n",
    "    model.compile(optimizer=keras.optimizers.Adam(learning_rate=lr),\n",
    "                  loss='sparse_categorical_crossentropy',\n",
    "                  metrics=['accuracy'])\n",
    "\n",
    "    history = model.fit(train_dataset.batch(64), epochs=epochs, validation_data=val_dataset.batch(64))\n",
    "\n",
    "    return history.history['loss'], history.history['val_loss']"
   ]
  },
  {
   "cell_type": "code",
   "execution_count": 15,
   "id": "18b9b906",
   "metadata": {},
   "outputs": [
    {
     "name": "stdout",
     "output_type": "stream",
     "text": [
      "Epoch 1/2\n",
      "782/782 [==============================] - 27s 32ms/step - loss: 2.7130 - accuracy: 0.1049 - val_loss: 2.2781 - val_accuracy: 0.1160\n",
      "Epoch 2/2\n",
      "782/782 [==============================] - 27s 35ms/step - loss: 2.2015 - accuracy: 0.1512 - val_loss: 1.9729 - val_accuracy: 0.2549\n"
     ]
    }
   ],
   "source": [
    "model = create_model(x1, m1, x2, m2, x3, d)\n",
    "train_losses, val_losses = train_model(model, train_dataset, val_dataset, epochs=2, lr=0.001)"
   ]
  },
  {
   "cell_type": "code",
   "execution_count": 16,
   "id": "1f13fadb",
   "metadata": {},
   "outputs": [
    {
     "data": {
      "image/png": "[encoded data removed]",
      "text/plain": [
       "<Figure size 432x288 with 1 Axes>"
      ]
     },
     "metadata": {
      "needs_background": "light"
     },
     "output_type": "display_data"
    }
   ],
   "source": [
    "plt.plot(range(1, 3), train_losses, label='Training Loss')\n",
    "plt.plot(range(1, 3), val_losses, label='Validation Loss')\n",
    "plt.xlabel('Epochs')\n",
    "plt.ylabel('Loss')\n",
    "plt.legend()\n",
    "plt.show()"
   ]
  },
  {
   "cell_type": "code",
   "execution_count": 24,
   "id": "703c7119",
   "metadata": {},
   "outputs": [
    {
     "name": "stdout",
     "output_type": "stream",
     "text": [
      "500/500 [==============================] - 2s 5ms/step - loss: 2.3202 - accuracy: 0.1000\n",
      "2.3202390670776367\n",
      "0.10000000149011612\n"
     ]
    }
   ],
   "source": [
    "test_loss, test_accuracy = model.evaluate(test_dataset.batch(20))\n",
    "print(test_loss)\n",
    "print(test_accuracy)"
   ]
  },
  {
   "cell_type": "code",
   "execution_count": 18,
   "id": "098cc662",
   "metadata": {},
   "outputs": [
    {
     "name": "stdout",
     "output_type": "stream",
     "text": [
      "Epoch 1/2\n",
      "782/782 [==============================] - 28s 35ms/step - loss: 6.3446 - accuracy: 0.1036 - val_loss: 2.3108 - val_accuracy: 0.1013\n",
      "Epoch 2/2\n",
      "782/782 [==============================] - 29s 37ms/step - loss: 2.3127 - accuracy: 0.1004 - val_loss: 2.3031 - val_accuracy: 0.1011\n",
      "Epoch 1/2\n",
      "782/782 [==============================] - 29s 36ms/step - loss: 2.8793 - accuracy: 0.1420 - val_loss: 2.0279 - val_accuracy: 0.2411\n",
      "Epoch 2/2\n",
      "782/782 [==============================] - 28s 36ms/step - loss: 2.0302 - accuracy: 0.2251 - val_loss: 1.6971 - val_accuracy: 0.3824\n",
      "Epoch 1/2\n",
      "782/782 [==============================] - 29s 36ms/step - loss: 2.5962 - accuracy: 0.0978 - val_loss: 2.3023 - val_accuracy: 0.1007\n",
      "Epoch 2/2\n",
      "782/782 [==============================] - 30s 39ms/step - loss: 2.3039 - accuracy: 0.0974 - val_loss: 2.3024 - val_accuracy: 0.1029\n",
      "Epoch 1/2\n",
      "782/782 [==============================] - 30s 37ms/step - loss: 51.4825 - accuracy: 0.1006 - val_loss: 2.3197 - val_accuracy: 0.0988\n",
      "Epoch 2/2\n",
      "782/782 [==============================] - 28s 35ms/step - loss: 2.3118 - accuracy: 0.1011 - val_loss: 2.3207 - val_accuracy: 0.0988\n"
     ]
    },
    {
     "data": {
      "image/png": "[encoded data removed]",
      "text/plain": [
       "<Figure size 432x288 with 1 Axes>"
      ]
     },
     "metadata": {
      "needs_background": "light"
     },
     "output_type": "display_data"
    }
   ],
   "source": [
    "learning_rates = [0.0001, 0.001, 0.01, 0.1]\n",
    "\n",
    "for lr in learning_rates:\n",
    "    model = create_model(x1, m1, x2, m2, x3, d)\n",
    "    train_losses, val_losses = train_model(model, train_dataset, val_dataset, epochs=2, lr=lr)\n",
    "\n",
    "    plt.plot(range(1, 3), train_losses, label=f'Training Loss, LR={lr}')\n",
    "    plt.plot(range(1, 3), val_losses, label=f'Validation Loss, LR={lr}')\n",
    "\n",
    "plt.xlabel('Epochs')\n",
    "plt.ylabel('Loss')\n",
    "plt.legend()\n",
    "plt.show()"
   ]
  },
  {
   "cell_type": "code",
   "execution_count": null,
   "id": "953fe72a",
   "metadata": {},
   "outputs": [],
   "source": []
  },
  {
   "cell_type": "code",
   "execution_count": null,
   "id": "c753b48f",
   "metadata": {},
   "outputs": [],
   "source": []
  }
 ],
 "metadata": {
  "kernelspec": {
   "display_name": "Python 3 (ipykernel)",
   "language": "python",
   "name": "python3"
  },
  "language_info": {
   "codemirror_mode": {
    "name": "ipython",
    "version": 3
   },
   "file_extension": ".py",
   "mimetype": "text/x-python",
   "name": "python",
   "nbconvert_exporter": "python",
   "pygments_lexer": "ipython3",
   "version": "3.9.12"
  }
 },
 "nbformat": 4,
 "nbformat_minor": 5
}
